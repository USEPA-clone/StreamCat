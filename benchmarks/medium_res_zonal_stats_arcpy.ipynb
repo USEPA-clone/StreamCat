{
 "cells": [
  {
   "cell_type": "code",
   "execution_count": null,
   "metadata": {},
   "outputs": [],
   "source": [
    "import arcpy\n",
    "from arcpy.sa import ZonalStatisticsAsTable"
   ]
  },
  {
   "cell_type": "code",
   "execution_count": null,
   "metadata": {},
   "outputs": [],
   "source": [
    "LandscapeLayer = 'O:/PRIV/CPHEA/PESD/COR/CORFILES/Geospatial_Library_Projects/StreamCat/LandscapeRasters/QAComplete/CanalsDitches.tif'\n",
    "inZoneData = 'O:/PRIV/CPHEA/PESD/COR/CORFILES/Geospatial_Library_Resource/Physical/HYDROLOGY/NHDPlusV21/NHDPlusNE/NHDPlus01/NHDPlusCatchment/cat'\n",
    "zone = '01'"
   ]
  },
  {
   "cell_type": "code",
   "execution_count": null,
   "metadata": {},
   "outputs": [],
   "source": [
    "arcpy.env.cellSize = \"30\"\n",
    "arcpy.env.snapRaster = inZoneData\n",
    "cellSize = 30\n",
    "snapRaster = inZoneData"
   ]
  },
  {
   "cell_type": "code",
   "execution_count": null,
   "metadata": {},
   "outputs": [],
   "source": [
    "outTable = f\"arcpy_zonal_stats_{LandscapeLayer.split(\"/\")[-1].split(\".\")[0]}_{zone}.csv\""
   ]
  },
  {
   "cell_type": "code",
   "execution_count": null,
   "metadata": {},
   "outputs": [],
   "source": [
    "ZonalStatisticsAsTable(\n",
    "                        inZoneData, \"VALUE\", LandscapeLayer, outTable, \"DATA\", \"ALL\"\n",
    "                    )"
   ]
  }
 ],
 "metadata": {
  "language_info": {
   "name": "python"
  }
 },
 "nbformat": 4,
 "nbformat_minor": 2
}
