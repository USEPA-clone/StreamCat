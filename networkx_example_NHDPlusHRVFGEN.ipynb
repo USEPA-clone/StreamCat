{
 "cells": [
  {
   "cell_type": "markdown",
   "id": "b4a14c03",
   "metadata": {},
   "source": [
    "# use networkx to find flow connections in the NHD\n",
    "**[networkx](https://networkx.org/documentation/stable/index.html) is a library we have always had in the StreamCat python environment, here is a quick and dirty look at what it can do!**"
   ]
  },
  {
   "cell_type": "code",
   "execution_count": 1,
   "id": "009c244a",
   "metadata": {},
   "outputs": [],
   "source": [
    "import numpy as np\n",
    "import geopandas as gpd\n",
    "import matplotlib.pyplot as plt\n",
    "import networkx as nx\n",
    "import rasterio\n",
    "from rasterstats import zonal_stats\n",
    "nhd = \"E:/NHDPlusHRVFGen\"             # set this to your local NHDPlusV21 dir\n",
    "stream_cat_home = \"C:/Users/mweber/GitProjects/StreamCat\" # set this to your local StreamCat repo"
   ]
  },
  {
   "cell_type": "markdown",
   "id": "8cfdf71e",
   "metadata": {},
   "source": [
    "### Read in NHDPlus \n",
    "\n",
    "- ignore some fields\n",
    "\n",
    "* Take a look at ...[how we create numpy files](https://github.com/USEPA/StreamCat/blob/3ae0abfa704341b1dc4064455f88494db3d1ab8a/StreamCat_functions.py#L1179)"
   ]
  },
  {
   "cell_type": "code",
   "execution_count": 60,
   "id": "e873ec45",
   "metadata": {},
   "outputs": [],
   "source": [
    "# %%timeit -r 1 -n 1\n",
    "plusflow_out = [\"NodeNumber\",\"DeltaLevel\",\"Direction\",\"GapDistKm\",\"HasGeo\"]\n",
    "flowline_out = [\"FDate\",\"Resolution\",\n",
    "                    \"FlowDir\",\"WBArea_Permanent_Identifier\",\"FCODE\",\"Shape_Length\",\"Enabled\",\"GNIS_NBR\"]\n",
    "flow = gpd.read_file(f\"{nhd}/NHDPlusHRVFGen0105.gdb\",driver='FileGDB',layer='NHDPlusFlow',\n",
    "            ignore_fields=plusflow_out)\n",
    "fls = gpd.read_file(f\"{nhd}/NHDPlusHRVFGen0105.gdb\",layer='NHDFlowline',\n",
    "            ignore_fields=flowline_out) # geometry needed for plotting\n",
    "cats = gpd.read_file( # this will later be used to filter out COMIDs that aren't catchments\n",
    "            f\"{nhd}/NHDPlusHRVFGen0105.gdb\", driver='FileGDB',layer='NHDPlusCatchment_Gen',\n",
    "            ignore_fields=[\"GridCode\",\"SourceFC\"])\n",
    "flow = flow[~((flow.FromPermID == '0') | (flow.ToPermID == '0'))] # same as current numpy process\n",
    "coasties = fls.loc[fls.FType == 566,\"Permanent_Identifier\"]        # same as current numpy process\n",
    "flow = flow[~flow.FromPermID.isin(coasties)]                 # same as current numpy process\n",
    "fls.to_crs(\"epsg:5070\", inplace=True)\n",
    "fls.geometry = fls.geometry.centroid"
   ]
  },
  {
   "cell_type": "markdown",
   "id": "6cbbaf12",
   "metadata": {},
   "source": [
    "### Create a directed graph\n",
    "**creating the graph is as simple as this once we have the flow table!!**"
   ]
  },
  {
   "cell_type": "code",
   "execution_count": 5,
   "id": "c984eed3",
   "metadata": {},
   "outputs": [
    {
     "data": {
      "text/html": [
       "<div>\n",
       "<style scoped>\n",
       "    .dataframe tbody tr th:only-of-type {\n",
       "        vertical-align: middle;\n",
       "    }\n",
       "\n",
       "    .dataframe tbody tr th {\n",
       "        vertical-align: top;\n",
       "    }\n",
       "\n",
       "    .dataframe thead th {\n",
       "        text-align: right;\n",
       "    }\n",
       "</style>\n",
       "<table border=\"1\" class=\"dataframe\">\n",
       "  <thead>\n",
       "    <tr style=\"text-align: right;\">\n",
       "      <th></th>\n",
       "      <th>FromPermID</th>\n",
       "      <th>ToPermID</th>\n",
       "    </tr>\n",
       "  </thead>\n",
       "  <tbody>\n",
       "    <tr>\n",
       "      <th>2</th>\n",
       "      <td>151699922</td>\n",
       "      <td>151706079</td>\n",
       "    </tr>\n",
       "    <tr>\n",
       "      <th>4</th>\n",
       "      <td>152242894</td>\n",
       "      <td>152242891</td>\n",
       "    </tr>\n",
       "    <tr>\n",
       "      <th>5</th>\n",
       "      <td>152241235</td>\n",
       "      <td>152242871</td>\n",
       "    </tr>\n",
       "    <tr>\n",
       "      <th>8</th>\n",
       "      <td>106400358</td>\n",
       "      <td>106400404</td>\n",
       "    </tr>\n",
       "    <tr>\n",
       "      <th>9</th>\n",
       "      <td>106398568</td>\n",
       "      <td>106398668</td>\n",
       "    </tr>\n",
       "  </tbody>\n",
       "</table>\n",
       "</div>"
      ],
      "text/plain": [
       "  FromPermID   ToPermID\n",
       "2  151699922  151706079\n",
       "4  152242894  152242891\n",
       "5  152241235  152242871\n",
       "8  106400358  106400404\n",
       "9  106398568  106398668"
      ]
     },
     "execution_count": 5,
     "metadata": {},
     "output_type": "execute_result"
    }
   ],
   "source": [
    "# %%timeit -r 1 -n 1\n",
    "flow = flow.loc[:, ['FromPermID','ToPermID']]\n",
    "G = nx.DiGraph()\n",
    "G.add_edges_from(flow.to_records(index=False))\n",
    "flow.head()"
   ]
  },
  {
   "cell_type": "markdown",
   "id": "68b42079",
   "metadata": {},
   "source": [
    "### query for upstream COMIDS\n",
    "\n",
    "* **[nx.bfs_tree](https://networkx.org/documentation/stable/reference/algorithms/generated/networkx.algorithms.traversal.breadth_first_search.bfs_tree.html?highlight=bfs_tree)** -- breadth first search"
   ]
  },
  {
   "cell_type": "code",
   "execution_count": 6,
   "id": "cd47e25d",
   "metadata": {},
   "outputs": [
    {
     "name": "stdout",
     "output_type": "stream",
     "text": [
      "195\n",
      "['106395858', '106395738', '106395720', '106395594', '106395522', '106395472', '106395434', '106395448', '106395382', '106395308', '106395184', '106395130', '106395110']\n",
      "['106395858' '106395738' '106395720' '106395594' '106395522' '106395472'\n",
      " '106395434' '106395448' '106395382' '106395308' '106395184' '106395130'\n",
      " '106395110']\n"
     ]
    }
   ],
   "source": [
    "# %%timeit -r 1 -n 1\n",
    "permID = '106395858'\n",
    "upstream = nx.bfs_tree(G, permID, reverse=True) # reverse means upstream for a particular PermID\n",
    "print(len(upstream))\n",
    "print(list(upstream)[:13])       # the first 13 PermIDs upstream in a list\n",
    "print(np.array(upstream)[:13])   # or in an array\n",
    "top = np.array(upstream)[-1] "
   ]
  },
  {
   "cell_type": "code",
   "execution_count": 7,
   "id": "2e999813",
   "metadata": {},
   "outputs": [
    {
     "data": {
      "text/plain": [
       "195"
      ]
     },
     "execution_count": 7,
     "metadata": {},
     "output_type": "execute_result"
    }
   ],
   "source": [
    "len(top)\n",
    "len(upstream)"
   ]
  },
  {
   "cell_type": "markdown",
   "id": "6889f1cd",
   "metadata": {},
   "source": [
    "### looking downstream is as easy as fipping the reverse arg -- default=False\n",
    "* **NOTE:** check the time diff here...looking downstream has less accumulated connections!"
   ]
  },
  {
   "cell_type": "code",
   "execution_count": 8,
   "id": "fc2e359a",
   "metadata": {},
   "outputs": [
    {
     "name": "stdout",
     "output_type": "stream",
     "text": [
      "113\n",
      "['106390284' '106390480' '106390512' '106390520' '106390524' '106390522'\n",
      " '106390552' '106390570' '106390658' '106390708' '106390664' '106390644'\n",
      " '106390642']\n"
     ]
    }
   ],
   "source": [
    "# %%timeit -r 1 -n 1\n",
    "downstream = nx.bfs_tree(G, top)\n",
    "print(len(downstream))\n",
    "print(np.array(downstream)[:13])"
   ]
  },
  {
   "cell_type": "markdown",
   "id": "502073b6",
   "metadata": {},
   "source": [
    "### quick plot of the watershed for PermID looking upstream and downstream\n"
   ]
  },
  {
   "cell_type": "code",
   "execution_count": 9,
   "id": "7d2695f8",
   "metadata": {
    "scrolled": false
   },
   "outputs": [
    {
     "data": {
      "image/png": "[encoded data removed]",
      "text/plain": [
       "<Figure size 432x288 with 1 Axes>"
      ]
     },
     "metadata": {},
     "output_type": "display_data"
    }
   ],
   "source": [
    "medomak = nx.bfs_tree(G, '106396346', reverse=True) # snake convergence: 23475172\n",
    "ups = fls.loc[fls.Permanent_Identifier.isin(list(medomak))].set_index(\"Permanent_Identifier\")\n",
    "pos = ups.apply(lambda g: (g.geometry.x, g.geometry.y), axis=1).to_dict()\n",
    "nx.draw_networkx(nx.DiGraph.reverse(medomak), pos, node_size=147, node_color='green',\n",
    "                 font_size=18, with_labels=False, width=2)\n",
    "plt.title('Medomak River Watershed', fontsize = 40)\n",
    "plt.rcParams[\"figure.figsize\"] = (40,20)\n",
    "plt.show()"
   ]
  },
  {
   "cell_type": "code",
   "execution_count": 10,
   "id": "61889198",
   "metadata": {},
   "outputs": [
    {
     "data": {
      "image/png": "[encoded data removed]",
      "text/plain": [
       "<Figure size 2880x1440 with 1 Axes>"
      ]
     },
     "metadata": {},
     "output_type": "display_data"
    },
    {
     "data": {
      "text/html": [
       "<div>\n",
       "<style scoped>\n",
       "    .dataframe tbody tr th:only-of-type {\n",
       "        vertical-align: middle;\n",
       "    }\n",
       "\n",
       "    .dataframe tbody tr th {\n",
       "        vertical-align: top;\n",
       "    }\n",
       "\n",
       "    .dataframe thead th {\n",
       "        text-align: right;\n",
       "    }\n",
       "</style>\n",
       "<table border=\"1\" class=\"dataframe\">\n",
       "  <thead>\n",
       "    <tr style=\"text-align: right;\">\n",
       "      <th></th>\n",
       "      <th>Permanent_Identifier</th>\n",
       "      <th>GNIS_ID</th>\n",
       "      <th>GNIS_Name</th>\n",
       "      <th>LengthKM</th>\n",
       "      <th>ReachCode</th>\n",
       "      <th>FType</th>\n",
       "      <th>FCode</th>\n",
       "      <th>MainPath</th>\n",
       "      <th>InNetwork</th>\n",
       "      <th>VisibilityFilter</th>\n",
       "      <th>NHDPlusID</th>\n",
       "      <th>VPUID</th>\n",
       "      <th>geometry</th>\n",
       "    </tr>\n",
       "  </thead>\n",
       "  <tbody>\n",
       "    <tr>\n",
       "      <th>4322</th>\n",
       "      <td>106396554</td>\n",
       "      <td>None</td>\n",
       "      <td>None</td>\n",
       "      <td>0.383</td>\n",
       "      <td>01050003002782</td>\n",
       "      <td>566</td>\n",
       "      <td>None</td>\n",
       "      <td>0</td>\n",
       "      <td>1</td>\n",
       "      <td>5000000</td>\n",
       "      <td>5.000200e+12</td>\n",
       "      <td>Gen</td>\n",
       "      <td>POINT (2099049.114 2631606.656)</td>\n",
       "    </tr>\n",
       "  </tbody>\n",
       "</table>\n",
       "</div>"
      ],
      "text/plain": [
       "     Permanent_Identifier GNIS_ID GNIS_Name  LengthKM       ReachCode  FType  \\\n",
       "4322            106396554    None      None     0.383  01050003002782    566   \n",
       "\n",
       "     FCode  MainPath  InNetwork  VisibilityFilter     NHDPlusID VPUID  \\\n",
       "4322  None         0          1           5000000  5.000200e+12   Gen   \n",
       "\n",
       "                             geometry  \n",
       "4322  POINT (2099049.114 2631606.656)  "
      ]
     },
     "execution_count": 10,
     "metadata": {},
     "output_type": "execute_result"
    }
   ],
   "source": [
    "medomak_down = nx.bfs_tree(G, '106390136') \n",
    "ups = fls.loc[fls.Permanent_Identifier.isin(list(medomak_down))].set_index(\"Permanent_Identifier\")\n",
    "pos = ups.apply(lambda g: (g.geometry.x, g.geometry.y), axis=1).to_dict()\n",
    "nx.draw_networkx(medomak_down, pos, node_size=147, node_color='green',\n",
    "                 font_size=18, with_labels=False, width=2)\n",
    "plt.suptitle('Downstream View from HeadWater', fontsize = 40)\n",
    "plt.title(\"the last node out on the right is a 'Coastline' PermID\", fontsize=25)\n",
    "plt.rcParams[\"figure.figsize\"] = (40,20)\n",
    "plt.show()\n",
    "fls.loc[fls.Permanent_Identifier == np.array(medomak_down)[-1]]"
   ]
  },
  {
   "cell_type": "markdown",
   "id": "e75c4bf6",
   "metadata": {},
   "source": [
    "### Run some zonal statistics"
   ]
  },
  {
   "cell_type": "code",
   "execution_count": 61,
   "id": "05fae172",
   "metadata": {},
   "outputs": [
    {
     "data": {
      "text/html": [
       "<div>\n",
       "<style scoped>\n",
       "    .dataframe tbody tr th:only-of-type {\n",
       "        vertical-align: middle;\n",
       "    }\n",
       "\n",
       "    .dataframe tbody tr th {\n",
       "        vertical-align: top;\n",
       "    }\n",
       "\n",
       "    .dataframe thead th {\n",
       "        text-align: right;\n",
       "    }\n",
       "</style>\n",
       "<table border=\"1\" class=\"dataframe\">\n",
       "  <thead>\n",
       "    <tr style=\"text-align: right;\">\n",
       "      <th></th>\n",
       "      <th>NHDPlusID</th>\n",
       "      <th>AreaSqKm</th>\n",
       "      <th>VPUID</th>\n",
       "      <th>SHAPE_Length</th>\n",
       "      <th>SHAPE_Area</th>\n",
       "      <th>geometry</th>\n",
       "    </tr>\n",
       "  </thead>\n",
       "  <tbody>\n",
       "    <tr>\n",
       "      <th>0</th>\n",
       "      <td>5.000200e+12</td>\n",
       "      <td>4.3156</td>\n",
       "      <td>Gen</td>\n",
       "      <td>0.189625</td>\n",
       "      <td>0.000483</td>\n",
       "      <td>MULTIPOLYGON (((-69.51408 43.84561, -69.51401 ...</td>\n",
       "    </tr>\n",
       "    <tr>\n",
       "      <th>1</th>\n",
       "      <td>5.000200e+12</td>\n",
       "      <td>6.5650</td>\n",
       "      <td>Gen</td>\n",
       "      <td>0.295558</td>\n",
       "      <td>0.000737</td>\n",
       "      <td>MULTIPOLYGON (((-69.17967 44.00269, -69.18015 ...</td>\n",
       "    </tr>\n",
       "    <tr>\n",
       "      <th>2</th>\n",
       "      <td>5.000200e+12</td>\n",
       "      <td>6.4839</td>\n",
       "      <td>Gen</td>\n",
       "      <td>0.229897</td>\n",
       "      <td>0.000740</td>\n",
       "      <td>MULTIPOLYGON (((-68.27272 45.00233, -68.27275 ...</td>\n",
       "    </tr>\n",
       "    <tr>\n",
       "      <th>3</th>\n",
       "      <td>5.000200e+12</td>\n",
       "      <td>4.4316</td>\n",
       "      <td>Gen</td>\n",
       "      <td>0.307985</td>\n",
       "      <td>0.000501</td>\n",
       "      <td>MULTIPOLYGON (((-67.89108 44.47400, -67.89097 ...</td>\n",
       "    </tr>\n",
       "    <tr>\n",
       "      <th>4</th>\n",
       "      <td>5.000200e+12</td>\n",
       "      <td>13.8393</td>\n",
       "      <td>Gen</td>\n",
       "      <td>0.295686</td>\n",
       "      <td>0.001585</td>\n",
       "      <td>MULTIPOLYGON (((-67.63423 45.24109, -67.63438 ...</td>\n",
       "    </tr>\n",
       "  </tbody>\n",
       "</table>\n",
       "</div>"
      ],
      "text/plain": [
       "      NHDPlusID  AreaSqKm VPUID  SHAPE_Length  SHAPE_Area  \\\n",
       "0  5.000200e+12    4.3156   Gen      0.189625    0.000483   \n",
       "1  5.000200e+12    6.5650   Gen      0.295558    0.000737   \n",
       "2  5.000200e+12    6.4839   Gen      0.229897    0.000740   \n",
       "3  5.000200e+12    4.4316   Gen      0.307985    0.000501   \n",
       "4  5.000200e+12   13.8393   Gen      0.295686    0.001585   \n",
       "\n",
       "                                            geometry  \n",
       "0  MULTIPOLYGON (((-69.51408 43.84561, -69.51401 ...  \n",
       "1  MULTIPOLYGON (((-69.17967 44.00269, -69.18015 ...  \n",
       "2  MULTIPOLYGON (((-68.27272 45.00233, -68.27275 ...  \n",
       "3  MULTIPOLYGON (((-67.89108 44.47400, -67.89097 ...  \n",
       "4  MULTIPOLYGON (((-67.63423 45.24109, -67.63438 ...  "
      ]
     },
     "execution_count": 61,
     "metadata": {},
     "output_type": "execute_result"
    }
   ],
   "source": [
    "cats.head()"
   ]
  },
  {
   "cell_type": "code",
   "execution_count": 62,
   "id": "92fbab53",
   "metadata": {},
   "outputs": [
    {
     "data": {
      "text/html": [
       "<div>\n",
       "<style scoped>\n",
       "    .dataframe tbody tr th:only-of-type {\n",
       "        vertical-align: middle;\n",
       "    }\n",
       "\n",
       "    .dataframe tbody tr th {\n",
       "        vertical-align: top;\n",
       "    }\n",
       "\n",
       "    .dataframe thead th {\n",
       "        text-align: right;\n",
       "    }\n",
       "</style>\n",
       "<table border=\"1\" class=\"dataframe\">\n",
       "  <thead>\n",
       "    <tr style=\"text-align: right;\">\n",
       "      <th></th>\n",
       "      <th>Permanent_Identifier</th>\n",
       "      <th>NHDPlusID</th>\n",
       "      <th>AreaSqKm</th>\n",
       "      <th>geometry</th>\n",
       "    </tr>\n",
       "  </thead>\n",
       "  <tbody>\n",
       "    <tr>\n",
       "      <th>0</th>\n",
       "      <td>106399278</td>\n",
       "      <td>5000200000001.0</td>\n",
       "      <td>4.3156</td>\n",
       "      <td>MULTIPOLYGON (((-69.51408 43.84561, -69.51401 ...</td>\n",
       "    </tr>\n",
       "    <tr>\n",
       "      <th>1</th>\n",
       "      <td>151711606</td>\n",
       "      <td>5000200000003.0</td>\n",
       "      <td>6.5650</td>\n",
       "      <td>MULTIPOLYGON (((-69.17967 44.00269, -69.18015 ...</td>\n",
       "    </tr>\n",
       "    <tr>\n",
       "      <th>2</th>\n",
       "      <td>151699922</td>\n",
       "      <td>5000200000006.0</td>\n",
       "      <td>6.4839</td>\n",
       "      <td>MULTIPOLYGON (((-68.27272 45.00233, -68.27275 ...</td>\n",
       "    </tr>\n",
       "    <tr>\n",
       "      <th>3</th>\n",
       "      <td>151711668</td>\n",
       "      <td>5000200000007.0</td>\n",
       "      <td>4.4316</td>\n",
       "      <td>MULTIPOLYGON (((-67.89108 44.47400, -67.89097 ...</td>\n",
       "    </tr>\n",
       "    <tr>\n",
       "      <th>4</th>\n",
       "      <td>152242894</td>\n",
       "      <td>5000200000008.0</td>\n",
       "      <td>13.8393</td>\n",
       "      <td>MULTIPOLYGON (((-67.63423 45.24109, -67.63438 ...</td>\n",
       "    </tr>\n",
       "  </tbody>\n",
       "</table>\n",
       "</div>"
      ],
      "text/plain": [
       "  Permanent_Identifier        NHDPlusID  AreaSqKm  \\\n",
       "0            106399278  5000200000001.0    4.3156   \n",
       "1            151711606  5000200000003.0    6.5650   \n",
       "2            151699922  5000200000006.0    6.4839   \n",
       "3            151711668  5000200000007.0    4.4316   \n",
       "4            152242894  5000200000008.0   13.8393   \n",
       "\n",
       "                                            geometry  \n",
       "0  MULTIPOLYGON (((-69.51408 43.84561, -69.51401 ...  \n",
       "1  MULTIPOLYGON (((-69.17967 44.00269, -69.18015 ...  \n",
       "2  MULTIPOLYGON (((-68.27272 45.00233, -68.27275 ...  \n",
       "3  MULTIPOLYGON (((-67.89108 44.47400, -67.89097 ...  \n",
       "4  MULTIPOLYGON (((-67.63423 45.24109, -67.63438 ...  "
      ]
     },
     "execution_count": 62,
     "metadata": {},
     "output_type": "execute_result"
    }
   ],
   "source": [
    "cats['NHDPlusID'] = cats['NHDPlusID'].astype(str)\n",
    "cats.head()\n",
    "fls['NHDPlusID'] = fls['NHDPlusID'].astype(str)\n",
    "temp=fls[['NHDPlusID','Permanent_Identifier']]\n",
    "cats = cats.merge(temp, on='NHDPlusID')\n",
    "# cats['row_num'] = cats.reset_index().index\n",
    "cats = cats[['Permanent_Identifier','NHDPlusID','AreaSqKm','geometry']]\n",
    "cats.head()"
   ]
  },
  {
   "cell_type": "code",
   "execution_count": 63,
   "id": "3ea8cf81",
   "metadata": {},
   "outputs": [
    {
     "data": {
      "text/plain": [
       "Permanent_Identifier      object\n",
       "NHDPlusID                 object\n",
       "AreaSqKm                 float64\n",
       "geometry                geometry\n",
       "dtype: object"
      ]
     },
     "execution_count": 63,
     "metadata": {},
     "output_type": "execute_result"
    }
   ],
   "source": [
    "cats.dtypes"
   ]
  },
  {
   "cell_type": "code",
   "execution_count": 64,
   "id": "9fd7b23f",
   "metadata": {},
   "outputs": [],
   "source": [
    "# cats['row_num'] = cats['row_num'].astype(int)\n",
    "cats['NHDPlusID'] = cats['NHDPlusID'].astype(str)\n",
    "cats['Permanent_Identifier'] = cats['Permanent_Identifier'].astype(str)"
   ]
  },
  {
   "cell_type": "code",
   "execution_count": 74,
   "id": "9bc2535e",
   "metadata": {},
   "outputs": [
    {
     "data": {
      "text/html": [
       "<div>\n",
       "<style scoped>\n",
       "    .dataframe tbody tr th:only-of-type {\n",
       "        vertical-align: middle;\n",
       "    }\n",
       "\n",
       "    .dataframe tbody tr th {\n",
       "        vertical-align: top;\n",
       "    }\n",
       "\n",
       "    .dataframe thead th {\n",
       "        text-align: right;\n",
       "    }\n",
       "</style>\n",
       "<table border=\"1\" class=\"dataframe\">\n",
       "  <thead>\n",
       "    <tr style=\"text-align: right;\">\n",
       "      <th></th>\n",
       "      <th>geometry</th>\n",
       "      <th>AreaSqKm</th>\n",
       "      <th>NHDPlusID</th>\n",
       "      <th>Permanent_Identifier</th>\n",
       "      <th>mean</th>\n",
       "      <th>count</th>\n",
       "      <th>sum</th>\n",
       "      <th>nodata</th>\n",
       "      <th>clay</th>\n",
       "    </tr>\n",
       "  </thead>\n",
       "  <tbody>\n",
       "    <tr>\n",
       "      <th>0</th>\n",
       "      <td>MULTIPOLYGON (((2094075.000 2610815.000, 20940...</td>\n",
       "      <td>4.3156</td>\n",
       "      <td>5000200000001.0</td>\n",
       "      <td>106399278</td>\n",
       "      <td>736.000000</td>\n",
       "      <td>3613</td>\n",
       "      <td>2659168.0</td>\n",
       "      <td>1475.0</td>\n",
       "      <td>7.360000</td>\n",
       "    </tr>\n",
       "    <tr>\n",
       "      <th>1</th>\n",
       "      <td>MULTIPOLYGON (((2114935.000 2635055.000, 21148...</td>\n",
       "      <td>6.5650</td>\n",
       "      <td>5000200000003.0</td>\n",
       "      <td>151711606</td>\n",
       "      <td>736.000000</td>\n",
       "      <td>5021</td>\n",
       "      <td>3695456.0</td>\n",
       "      <td>2732.0</td>\n",
       "      <td>7.360000</td>\n",
       "    </tr>\n",
       "    <tr>\n",
       "      <th>2</th>\n",
       "      <td>MULTIPOLYGON (((2152415.000 2762225.000, 21524...</td>\n",
       "      <td>6.4839</td>\n",
       "      <td>5000200000006.0</td>\n",
       "      <td>151699922</td>\n",
       "      <td>687.126108</td>\n",
       "      <td>7557</td>\n",
       "      <td>5192612.0</td>\n",
       "      <td>0.0</td>\n",
       "      <td>6.871261</td>\n",
       "    </tr>\n",
       "    <tr>\n",
       "      <th>3</th>\n",
       "      <td>MULTIPOLYGON (((2198325.000 2714655.000, 21983...</td>\n",
       "      <td>4.4316</td>\n",
       "      <td>5000200000007.0</td>\n",
       "      <td>151711668</td>\n",
       "      <td>699.284700</td>\n",
       "      <td>2536</td>\n",
       "      <td>1773386.0</td>\n",
       "      <td>2887.0</td>\n",
       "      <td>6.992847</td>\n",
       "    </tr>\n",
       "    <tr>\n",
       "      <th>4</th>\n",
       "      <td>MULTIPOLYGON (((2192705.000 2802235.000, 21927...</td>\n",
       "      <td>13.8393</td>\n",
       "      <td>5000200000008.0</td>\n",
       "      <td>152242894</td>\n",
       "      <td>1306.000000</td>\n",
       "      <td>13120</td>\n",
       "      <td>17134720.0</td>\n",
       "      <td>2729.0</td>\n",
       "      <td>13.060000</td>\n",
       "    </tr>\n",
       "  </tbody>\n",
       "</table>\n",
       "</div>"
      ],
      "text/plain": [
       "                                            geometry  AreaSqKm  \\\n",
       "0  MULTIPOLYGON (((2094075.000 2610815.000, 20940...    4.3156   \n",
       "1  MULTIPOLYGON (((2114935.000 2635055.000, 21148...    6.5650   \n",
       "2  MULTIPOLYGON (((2152415.000 2762225.000, 21524...    6.4839   \n",
       "3  MULTIPOLYGON (((2198325.000 2714655.000, 21983...    4.4316   \n",
       "4  MULTIPOLYGON (((2192705.000 2802235.000, 21927...   13.8393   \n",
       "\n",
       "         NHDPlusID Permanent_Identifier         mean  count         sum  \\\n",
       "0  5000200000001.0            106399278   736.000000   3613   2659168.0   \n",
       "1  5000200000003.0            151711606   736.000000   5021   3695456.0   \n",
       "2  5000200000006.0            151699922   687.126108   7557   5192612.0   \n",
       "3  5000200000007.0            151711668   699.284700   2536   1773386.0   \n",
       "4  5000200000008.0            152242894  1306.000000  13120  17134720.0   \n",
       "\n",
       "   nodata       clay  \n",
       "0  1475.0   7.360000  \n",
       "1  2732.0   7.360000  \n",
       "2     0.0   6.871261  \n",
       "3  2887.0   6.992847  \n",
       "4  2729.0  13.060000  "
      ]
     },
     "execution_count": 74,
     "metadata": {},
     "output_type": "execute_result"
    }
   ],
   "source": [
    "clay = 'O:/PRIV/CPHEA/PESD/COR/CORFILES/Geospatial_Library_Projects/StreamCat/LandscapeRasters/QAComplete/clay.tif'\n",
    "cats = cats.to_crs(5070)\n",
    "clay_stats = zonal_stats(cats, clay, all_touched=True,geojson_out=True, stats=\"count mean sum nodata\")\n",
    "clay_stats = gpd.GeoDataFrame.from_features(clay_stats)\n",
    "clay_stats['clay'] = clay_stats['mean'].apply(lambda x: x*0.01)\n",
    "clay_stats.head()"
   ]
  },
  {
   "cell_type": "markdown",
   "id": "535546a8",
   "metadata": {},
   "source": [
    "### each node can have attrs! a dict associated with every COMID"
   ]
  },
  {
   "cell_type": "code",
   "execution_count": 85,
   "id": "84d17fad",
   "metadata": {},
   "outputs": [
    {
     "name": "stdout",
     "output_type": "stream",
     "text": [
      "ClayCat is 6.11\n",
      "ClayCat is 6.11\n"
     ]
    }
   ],
   "source": [
    "# %%timeit -r 1 -n 1\n",
    "# z = np.unique(np.concatenate([flow.ToPermID.values, flow.FromPermID.values]))\n",
    "# for tt in clay_stats.itertuples():\n",
    "#     if tt.Permanent_Identifier in z:\n",
    "#         G.nodes[tt.Permanent_Identifier][\"clay\"] = tt.clay  # cleaner/quicker way for this???\n",
    "# same just displaying from zonal stats table but can join to nodes as well and creates a dictionary\n",
    "print('ClayCat is ' + str(clay_stats.loc[clay_stats['Permanent_Identifier'] == '106390136', 'clay'].item()))\n",
    "print('ClayCat is ' + str(G.nodes['106390136']['clay']))"
   ]
  },
  {
   "cell_type": "markdown",
   "id": "bed7f332",
   "metadata": {},
   "source": [
    "### sum area for the watershed using the attrs!!!\n",
    "* **NOTE:** `upstream` here is itself a Graph object, but the attrs don't come along with the `nx.bfs_tree` search that we do, so we can subset the graph"
   ]
  },
  {
   "cell_type": "code",
   "execution_count": 97,
   "id": "79c69f16",
   "metadata": {},
   "outputs": [
    {
     "name": "stdout",
     "output_type": "stream",
     "text": [
      "ClayWs is 12.93\n"
     ]
    }
   ],
   "source": [
    "# %%timeit -r 1 -n 1\n",
    "H = G.subgraph(list(upstream))\n",
    "# np.array(list(nx.get_node_attributes(H, \"clay\").values())).mean()\n",
    "clay_ws = np.array(list(nx.get_node_attributes(H, \"clay\").values())).mean()\n",
    "print('ClayWs is ' + '%.2f'%(clay_ws))"
   ]
  },
  {
   "cell_type": "markdown",
   "id": "6bd6d642",
   "metadata": {},
   "source": [
    "## Example for Columbia - multiple HUC4 regions\n",
    "Read in NHDPlus HR\n",
    "\n",
    "- ignore some fields\n",
    "\n",
    "* Take a look at ...[how we create numpy files](https://github.com/USEPA/StreamCat/blob/3ae0abfa704341b1dc4064455f88494db3d1ab8a/StreamCat_functions.py#L1179)"
   ]
  },
  {
   "cell_type": "code",
   "execution_count": 3,
   "id": "253f49dd",
   "metadata": {},
   "outputs": [],
   "source": [
    "nhd = \"E:/NHDPlusHR\" \n",
    "import pandas as pd\n",
    "plusflow_out = [\"NodeNumber\",\"DeltaLevel\",\"Direction\",\"GapDistKm\",\"HasGeo\"]\n",
    "flowline_out = [\"FDate\",\"Resolution\",\n",
    "                    \"FlowDir\",\"WBArea_Permanent_Identifier\",\"FCODE\",\"Shape_Length\",\"Enabled\",\"GNIS_NBR\"]\n",
    "flow1 = gpd.read_file(f\"{nhd}/NHDPLUS_H_1707_HU4_GDB.gdb\",driver='FileGDB',layer='NHDPlusFlow',\n",
    "            ignore_fields=plusflow_out)\n",
    "fls1 = gpd.read_file(f\"{nhd}/NHDPLUS_H_1707_HU4_GDB.gdb\",layer='NHDFlowline',\n",
    "            ignore_fields=flowline_out) # geometry needed for plotting\n",
    "cats1 = gpd.read_file( # this will later be used to filter out COMIDs that aren't catchments\n",
    "            f\"{nhd}/NHDPLUS_H_1707_HU4_GDB.gdb\", driver='FileGDB',layer='NHDPlusCatchment',\n",
    "            ignore_fields=[\"GridCode\",\"SourceFC\"])\n",
    "flow2 = gpd.read_file(f\"{nhd}/NHDPLUS_H_1708_HU4_GDB.gdb\",driver='FileGDB',layer='NHDPlusFlow',\n",
    "            ignore_fields=plusflow_out)\n",
    "fls2 = gpd.read_file(f\"{nhd}/NHDPLUS_H_1708_HU4_GDB.gdb\",layer='NHDFlowline',\n",
    "            ignore_fields=flowline_out) # geometry needed for plotting\n",
    "cats2 = gpd.read_file( # this will later be used to filter out COMIDs that aren't catchments\n",
    "            f\"{nhd}/NHDPLUS_H_1707_HU4_GDB.gdb\", driver='FileGDB',layer='NHDPlusCatchment',\n",
    "            ignore_fields=[\"GridCode\",\"SourceFC\"])\n",
    "flow = pd.concat([flow1,flow2])\n",
    "fls = pd.concat([fls1,fls2])\n",
    "cats = pd.concat([cats1,cats2])\n",
    "del flow1\n",
    "del flow2\n",
    "del fls1\n",
    "del fls2\n",
    "del cats1\n",
    "del cats2\n",
    "flow = flow[~((flow.FromPermID == '0') | (flow.ToPermID == '0'))] # same as current numpy process\n",
    "coasties = fls.loc[fls.FType == 566,\"Permanent_Identifier\"]        # same as current numpy process\n",
    "flow = flow[~flow.FromPermID.isin(coasties)]                 # same as current numpy process\n",
    "fls.to_crs(\"epsg:5070\", inplace=True)\n",
    "fls.geometry = fls.geometry.centroid"
   ]
  },
  {
   "cell_type": "markdown",
   "id": "2bc6ca0f",
   "metadata": {},
   "source": [
    "### Create a directed graph\n",
    "**creating the graph is as simple as this once we have the flow table!!**"
   ]
  },
  {
   "cell_type": "code",
   "execution_count": 40,
   "id": "f4ee78f6",
   "metadata": {},
   "outputs": [
    {
     "data": {
      "text/html": [
       "<div>\n",
       "<style scoped>\n",
       "    .dataframe tbody tr th:only-of-type {\n",
       "        vertical-align: middle;\n",
       "    }\n",
       "\n",
       "    .dataframe tbody tr th {\n",
       "        vertical-align: top;\n",
       "    }\n",
       "\n",
       "    .dataframe thead th {\n",
       "        text-align: right;\n",
       "    }\n",
       "</style>\n",
       "<table border=\"1\" class=\"dataframe\">\n",
       "  <thead>\n",
       "    <tr style=\"text-align: right;\">\n",
       "      <th></th>\n",
       "      <th>FromPermID</th>\n",
       "      <th>ToPermID</th>\n",
       "    </tr>\n",
       "  </thead>\n",
       "  <tbody>\n",
       "    <tr>\n",
       "      <th>28071</th>\n",
       "      <td>167672337</td>\n",
       "      <td>165121479</td>\n",
       "    </tr>\n",
       "    <tr>\n",
       "      <th>28072</th>\n",
       "      <td>149932133</td>\n",
       "      <td>149954830</td>\n",
       "    </tr>\n",
       "    <tr>\n",
       "      <th>28073</th>\n",
       "      <td>149932134</td>\n",
       "      <td>149954834</td>\n",
       "    </tr>\n",
       "    <tr>\n",
       "      <th>105124</th>\n",
       "      <td>150801821</td>\n",
       "      <td>150801885</td>\n",
       "    </tr>\n",
       "    <tr>\n",
       "      <th>105125</th>\n",
       "      <td>150813623</td>\n",
       "      <td>150813620</td>\n",
       "    </tr>\n",
       "  </tbody>\n",
       "</table>\n",
       "</div>"
      ],
      "text/plain": [
       "       FromPermID   ToPermID\n",
       "28071   167672337  165121479\n",
       "28072   149932133  149954830\n",
       "28073   149932134  149954834\n",
       "105124  150801821  150801885\n",
       "105125  150813623  150813620"
      ]
     },
     "execution_count": 40,
     "metadata": {},
     "output_type": "execute_result"
    }
   ],
   "source": [
    "# %%timeit -r 1 -n 1\n",
    "flow = flow.loc[:, ['FromPermID','ToPermID']]\n",
    "flow = flow[flow.FromPermID.isin(fls.Permanent_Identifier)]\n",
    "flow = flow[flow.ToPermID.isin(fls.Permanent_Identifier)]\n",
    "G = nx.DiGraph()\n",
    "G.add_edges_from(flow.to_records(index=False))\n",
    "flow.head()"
   ]
  },
  {
   "cell_type": "markdown",
   "id": "608fd1c6",
   "metadata": {},
   "source": [
    "### query for upstream COMIDS\n",
    "\n",
    "* **[nx.bfs_tree](https://networkx.org/documentation/stable/reference/algorithms/generated/networkx.algorithms.traversal.breadth_first_search.bfs_tree.html?highlight=bfs_tree)** -- breadth first search"
   ]
  },
  {
   "cell_type": "code",
   "execution_count": 23,
   "id": "27be9b0c",
   "metadata": {},
   "outputs": [
    {
     "data": {
      "text/plain": [
       "True"
      ]
     },
     "execution_count": 23,
     "metadata": {},
     "output_type": "execute_result"
    }
   ],
   "source": [
    "flow.dtypes\n",
    "'129407443' in flow.ToPermID.values"
   ]
  },
  {
   "cell_type": "code",
   "execution_count": 41,
   "id": "32a05002",
   "metadata": {},
   "outputs": [
    {
     "name": "stdout",
     "output_type": "stream",
     "text": [
      "421648\n",
      "['129407443', '164359777', '164359775', '129407444', '164359776', '164359779', '164348256', '164359724', '164359725', '164359778', '164348270', '164349466', '164359723']\n",
      "['129407443' '164359777' '164359775' '129407444' '164359776' '164359779'\n",
      " '164348256' '164359724' '164359725' '164359778' '164348270' '164349466'\n",
      " '164359723']\n"
     ]
    }
   ],
   "source": [
    "# %%timeit -r 1 -n 1\n",
    "permID = '129407443'\n",
    "upstream = nx.bfs_tree(G, permID, reverse=True) # reverse means upstream for a particular PermID\n",
    "print(len(upstream))\n",
    "print(list(upstream)[:13])       # the first 13 PermIDs upstream in a list\n",
    "print(np.array(upstream)[:13])   # or in an array\n",
    "top = np.array(upstream)[-1] "
   ]
  },
  {
   "cell_type": "markdown",
   "id": "93d37158",
   "metadata": {},
   "source": [
    "### looking downstream is as easy as fipping the reverse arg -- default=False\n",
    "* **NOTE:** check the time diff here...looking downstream has less accumulated connections!"
   ]
  },
  {
   "cell_type": "code",
   "execution_count": 42,
   "id": "a2882d76",
   "metadata": {},
   "outputs": [
    {
     "name": "stdout",
     "output_type": "stream",
     "text": [
      "3052\n",
      "['113007816' '113007812' '160251740' '160252036' '160252037' '160251803'\n",
      " '160251849' '113007552' '160251870' '160251993' '113007408' '113007378'\n",
      " '160251888']\n"
     ]
    }
   ],
   "source": [
    "# %%timeit -r 1 -n 1\n",
    "downstream = nx.bfs_tree(G, top)\n",
    "print(len(downstream))\n",
    "print(np.array(downstream)[:13])"
   ]
  },
  {
   "cell_type": "code",
   "execution_count": null,
   "id": "acbf7a4e",
   "metadata": {},
   "outputs": [],
   "source": [
    "### quick plot of the watershed for section of Columbia River looking upstream and downstream"
   ]
  },
  {
   "cell_type": "code",
   "execution_count": 43,
   "id": "0e18874b",
   "metadata": {},
   "outputs": [
    {
     "data": {
      "image/png": "[encoded data removed]",
      "text/plain": [
       "<Figure size 432x288 with 1 Axes>"
      ]
     },
     "metadata": {},
     "output_type": "display_data"
    }
   ],
   "source": [
    "columbia = nx.bfs_tree(G, '129407443', reverse=True)\n",
    "ups = fls.loc[fls.Permanent_Identifier.isin(list(columbia))].set_index(\"Permanent_Identifier\")\n",
    "ups.head()\n",
    "pos = ups.apply(lambda g: (g.geometry.x, g.geometry.y), axis=1).to_dict()\n",
    "nx.draw_networkx(nx.DiGraph.reverse(columbia), pos, node_size=147, node_color='green',\n",
    "                 font_size=18, with_labels=False, width=2)\n",
    "# plt.title('Columbia River Upstream', fontsize = 40)\n",
    "# plt.rcParams[\"figure.figsize\"] = (40,20)\n",
    "# plt.show()"
   ]
  },
  {
   "cell_type": "code",
   "execution_count": 36,
   "id": "9b6088dc",
   "metadata": {},
   "outputs": [
    {
     "data": {
      "text/html": [
       "<div>\n",
       "<style scoped>\n",
       "    .dataframe tbody tr th:only-of-type {\n",
       "        vertical-align: middle;\n",
       "    }\n",
       "\n",
       "    .dataframe tbody tr th {\n",
       "        vertical-align: top;\n",
       "    }\n",
       "\n",
       "    .dataframe thead th {\n",
       "        text-align: right;\n",
       "    }\n",
       "</style>\n",
       "<table border=\"1\" class=\"dataframe\">\n",
       "  <thead>\n",
       "    <tr style=\"text-align: right;\">\n",
       "      <th></th>\n",
       "      <th>Permanent_Identifier</th>\n",
       "      <th>GNIS_ID</th>\n",
       "      <th>GNIS_Name</th>\n",
       "      <th>LengthKM</th>\n",
       "      <th>ReachCode</th>\n",
       "      <th>FType</th>\n",
       "      <th>FCode</th>\n",
       "      <th>MainPath</th>\n",
       "      <th>InNetwork</th>\n",
       "      <th>VisibilityFilter</th>\n",
       "      <th>NHDPlusID</th>\n",
       "      <th>VPUID</th>\n",
       "      <th>geometry</th>\n",
       "    </tr>\n",
       "  </thead>\n",
       "  <tbody>\n",
       "  </tbody>\n",
       "</table>\n",
       "</div>"
      ],
      "text/plain": [
       "Empty GeoDataFrame\n",
       "Columns: [Permanent_Identifier, GNIS_ID, GNIS_Name, LengthKM, ReachCode, FType, FCode, MainPath, InNetwork, VisibilityFilter, NHDPlusID, VPUID, geometry]\n",
       "Index: []"
      ]
     },
     "execution_count": 36,
     "metadata": {},
     "output_type": "execute_result"
    }
   ],
   "source": [
    "flow.loc[flow.FromPermID=='164345441']\n",
    "fls.loc[fls.Permanent_Identifier=='164345441']"
   ]
  },
  {
   "cell_type": "code",
   "execution_count": 45,
   "id": "f7cec161",
   "metadata": {},
   "outputs": [
    {
     "data": {
      "image/png": "[encoded data removed]",
      "text/plain": [
       "<Figure size 2880x1440 with 1 Axes>"
      ]
     },
     "metadata": {},
     "output_type": "display_data"
    },
    {
     "data": {
      "text/html": [
       "<div>\n",
       "<style scoped>\n",
       "    .dataframe tbody tr th:only-of-type {\n",
       "        vertical-align: middle;\n",
       "    }\n",
       "\n",
       "    .dataframe tbody tr th {\n",
       "        vertical-align: top;\n",
       "    }\n",
       "\n",
       "    .dataframe thead th {\n",
       "        text-align: right;\n",
       "    }\n",
       "</style>\n",
       "<table border=\"1\" class=\"dataframe\">\n",
       "  <thead>\n",
       "    <tr style=\"text-align: right;\">\n",
       "      <th></th>\n",
       "      <th>Permanent_Identifier</th>\n",
       "      <th>GNIS_ID</th>\n",
       "      <th>GNIS_Name</th>\n",
       "      <th>LengthKM</th>\n",
       "      <th>ReachCode</th>\n",
       "      <th>FType</th>\n",
       "      <th>FCode</th>\n",
       "      <th>MainPath</th>\n",
       "      <th>InNetwork</th>\n",
       "      <th>VisibilityFilter</th>\n",
       "      <th>NHDPlusID</th>\n",
       "      <th>VPUID</th>\n",
       "      <th>geometry</th>\n",
       "    </tr>\n",
       "  </thead>\n",
       "  <tbody>\n",
       "    <tr>\n",
       "      <th>172307</th>\n",
       "      <td>147682582</td>\n",
       "      <td>01140014</td>\n",
       "      <td>Columbia River</td>\n",
       "      <td>4.354</td>\n",
       "      <td>17080006000980</td>\n",
       "      <td>558</td>\n",
       "      <td>None</td>\n",
       "      <td>0</td>\n",
       "      <td>1</td>\n",
       "      <td>0</td>\n",
       "      <td>5.500030e+13</td>\n",
       "      <td>1708</td>\n",
       "      <td>POINT (-2131996.048 2901157.710)</td>\n",
       "    </tr>\n",
       "  </tbody>\n",
       "</table>\n",
       "</div>"
      ],
      "text/plain": [
       "       Permanent_Identifier   GNIS_ID       GNIS_Name  LengthKM  \\\n",
       "172307            147682582  01140014  Columbia River     4.354   \n",
       "\n",
       "             ReachCode  FType FCode  MainPath  InNetwork  VisibilityFilter  \\\n",
       "172307  17080006000980    558  None         0          1                 0   \n",
       "\n",
       "           NHDPlusID VPUID                          geometry  \n",
       "172307  5.500030e+13  1708  POINT (-2131996.048 2901157.710)  "
      ]
     },
     "execution_count": 45,
     "metadata": {},
     "output_type": "execute_result"
    }
   ],
   "source": [
    "columbia_down = nx.bfs_tree(G, '129407443') \n",
    "ups = fls.loc[fls.Permanent_Identifier.isin(list(columbia_down))].set_index(\"Permanent_Identifier\")\n",
    "pos = ups.apply(lambda g: (g.geometry.x, g.geometry.y), axis=1).to_dict()\n",
    "nx.draw_networkx(columbia_down, pos, node_size=147, node_color='green',\n",
    "                 font_size=18, with_labels=False, width=2)\n",
    "plt.suptitle('Downstream View from HeadWater', fontsize = 25)\n",
    "plt.rcParams[\"figure.figsize\"] = (40,20)\n",
    "plt.show()\n",
    "fls.loc[fls.Permanent_Identifier == np.array(columbia_down)[-1]]"
   ]
  },
  {
   "cell_type": "markdown",
   "id": "a6c5d41b",
   "metadata": {},
   "source": [
    "### Run some zonal statistics"
   ]
  },
  {
   "cell_type": "code",
   "execution_count": 4,
   "id": "37170bc9",
   "metadata": {},
   "outputs": [
    {
     "data": {
      "text/html": [
       "<div>\n",
       "<style scoped>\n",
       "    .dataframe tbody tr th:only-of-type {\n",
       "        vertical-align: middle;\n",
       "    }\n",
       "\n",
       "    .dataframe tbody tr th {\n",
       "        vertical-align: top;\n",
       "    }\n",
       "\n",
       "    .dataframe thead th {\n",
       "        text-align: right;\n",
       "    }\n",
       "</style>\n",
       "<table border=\"1\" class=\"dataframe\">\n",
       "  <thead>\n",
       "    <tr style=\"text-align: right;\">\n",
       "      <th></th>\n",
       "      <th>NHDPlusID</th>\n",
       "      <th>AreaSqKm</th>\n",
       "      <th>VPUID</th>\n",
       "      <th>SHAPE_Length</th>\n",
       "      <th>SHAPE_Area</th>\n",
       "      <th>geometry</th>\n",
       "    </tr>\n",
       "  </thead>\n",
       "  <tbody>\n",
       "    <tr>\n",
       "      <th>0</th>\n",
       "      <td>5.500040e+13</td>\n",
       "      <td>1.4119</td>\n",
       "      <td>1707</td>\n",
       "      <td>0.083003</td>\n",
       "      <td>0.000163</td>\n",
       "      <td>MULTIPOLYGON (((-121.89216 45.66997, -121.8922...</td>\n",
       "    </tr>\n",
       "    <tr>\n",
       "      <th>1</th>\n",
       "      <td>5.500040e+13</td>\n",
       "      <td>0.0208</td>\n",
       "      <td>1707</td>\n",
       "      <td>0.015304</td>\n",
       "      <td>0.000002</td>\n",
       "      <td>MULTIPOLYGON (((-121.31994 45.77734, -121.3203...</td>\n",
       "    </tr>\n",
       "    <tr>\n",
       "      <th>2</th>\n",
       "      <td>5.500040e+13</td>\n",
       "      <td>0.7578</td>\n",
       "      <td>1707</td>\n",
       "      <td>0.071280</td>\n",
       "      <td>0.000088</td>\n",
       "      <td>MULTIPOLYGON (((-121.26562 45.79107, -121.2655...</td>\n",
       "    </tr>\n",
       "    <tr>\n",
       "      <th>3</th>\n",
       "      <td>5.500040e+13</td>\n",
       "      <td>0.0492</td>\n",
       "      <td>1707</td>\n",
       "      <td>0.017025</td>\n",
       "      <td>0.000006</td>\n",
       "      <td>MULTIPOLYGON (((-121.54939 45.82354, -121.5494...</td>\n",
       "    </tr>\n",
       "    <tr>\n",
       "      <th>4</th>\n",
       "      <td>5.500040e+13</td>\n",
       "      <td>0.2677</td>\n",
       "      <td>1707</td>\n",
       "      <td>0.044346</td>\n",
       "      <td>0.000031</td>\n",
       "      <td>MULTIPOLYGON (((-121.82195 45.74904, -121.8220...</td>\n",
       "    </tr>\n",
       "  </tbody>\n",
       "</table>\n",
       "</div>"
      ],
      "text/plain": [
       "      NHDPlusID  AreaSqKm VPUID  SHAPE_Length  SHAPE_Area  \\\n",
       "0  5.500040e+13    1.4119  1707      0.083003    0.000163   \n",
       "1  5.500040e+13    0.0208  1707      0.015304    0.000002   \n",
       "2  5.500040e+13    0.7578  1707      0.071280    0.000088   \n",
       "3  5.500040e+13    0.0492  1707      0.017025    0.000006   \n",
       "4  5.500040e+13    0.2677  1707      0.044346    0.000031   \n",
       "\n",
       "                                            geometry  \n",
       "0  MULTIPOLYGON (((-121.89216 45.66997, -121.8922...  \n",
       "1  MULTIPOLYGON (((-121.31994 45.77734, -121.3203...  \n",
       "2  MULTIPOLYGON (((-121.26562 45.79107, -121.2655...  \n",
       "3  MULTIPOLYGON (((-121.54939 45.82354, -121.5494...  \n",
       "4  MULTIPOLYGON (((-121.82195 45.74904, -121.8220...  "
      ]
     },
     "execution_count": 4,
     "metadata": {},
     "output_type": "execute_result"
    }
   ],
   "source": [
    "cats.head()"
   ]
  },
  {
   "cell_type": "code",
   "execution_count": 5,
   "id": "92fbab53",
   "metadata": {},
   "outputs": [
    {
     "data": {
      "text/html": [
       "<div>\n",
       "<style scoped>\n",
       "    .dataframe tbody tr th:only-of-type {\n",
       "        vertical-align: middle;\n",
       "    }\n",
       "\n",
       "    .dataframe tbody tr th {\n",
       "        vertical-align: top;\n",
       "    }\n",
       "\n",
       "    .dataframe thead th {\n",
       "        text-align: right;\n",
       "    }\n",
       "</style>\n",
       "<table border=\"1\" class=\"dataframe\">\n",
       "  <thead>\n",
       "    <tr style=\"text-align: right;\">\n",
       "      <th></th>\n",
       "      <th>Permanent_Identifier</th>\n",
       "      <th>NHDPlusID</th>\n",
       "      <th>AreaSqKm</th>\n",
       "      <th>geometry</th>\n",
       "    </tr>\n",
       "  </thead>\n",
       "  <tbody>\n",
       "    <tr>\n",
       "      <th>0</th>\n",
       "      <td>150813811</td>\n",
       "      <td>55000400206548.0</td>\n",
       "      <td>1.4119</td>\n",
       "      <td>MULTIPOLYGON (((-121.89216 45.66997, -121.8922...</td>\n",
       "    </tr>\n",
       "    <tr>\n",
       "      <th>1</th>\n",
       "      <td>150813811</td>\n",
       "      <td>55000400206548.0</td>\n",
       "      <td>1.4119</td>\n",
       "      <td>MULTIPOLYGON (((-121.89216 45.66997, -121.8922...</td>\n",
       "    </tr>\n",
       "    <tr>\n",
       "      <th>2</th>\n",
       "      <td>147210627</td>\n",
       "      <td>55000400039342.0</td>\n",
       "      <td>0.0208</td>\n",
       "      <td>MULTIPOLYGON (((-121.31994 45.77734, -121.3203...</td>\n",
       "    </tr>\n",
       "    <tr>\n",
       "      <th>3</th>\n",
       "      <td>147210627</td>\n",
       "      <td>55000400039342.0</td>\n",
       "      <td>0.0208</td>\n",
       "      <td>MULTIPOLYGON (((-121.31994 45.77734, -121.3203...</td>\n",
       "    </tr>\n",
       "    <tr>\n",
       "      <th>4</th>\n",
       "      <td>147204283</td>\n",
       "      <td>55000400142361.0</td>\n",
       "      <td>0.7578</td>\n",
       "      <td>MULTIPOLYGON (((-121.26562 45.79107, -121.2655...</td>\n",
       "    </tr>\n",
       "  </tbody>\n",
       "</table>\n",
       "</div>"
      ],
      "text/plain": [
       "  Permanent_Identifier         NHDPlusID  AreaSqKm  \\\n",
       "0            150813811  55000400206548.0    1.4119   \n",
       "1            150813811  55000400206548.0    1.4119   \n",
       "2            147210627  55000400039342.0    0.0208   \n",
       "3            147210627  55000400039342.0    0.0208   \n",
       "4            147204283  55000400142361.0    0.7578   \n",
       "\n",
       "                                            geometry  \n",
       "0  MULTIPOLYGON (((-121.89216 45.66997, -121.8922...  \n",
       "1  MULTIPOLYGON (((-121.89216 45.66997, -121.8922...  \n",
       "2  MULTIPOLYGON (((-121.31994 45.77734, -121.3203...  \n",
       "3  MULTIPOLYGON (((-121.31994 45.77734, -121.3203...  \n",
       "4  MULTIPOLYGON (((-121.26562 45.79107, -121.2655...  "
      ]
     },
     "execution_count": 5,
     "metadata": {},
     "output_type": "execute_result"
    }
   ],
   "source": [
    "cats['NHDPlusID'] = cats['NHDPlusID'].astype(str)\n",
    "cats.head()\n",
    "fls['NHDPlusID'] = fls['NHDPlusID'].astype(str)\n",
    "temp=fls[['NHDPlusID','Permanent_Identifier']]\n",
    "cats = cats.merge(temp, on='NHDPlusID')\n",
    "# cats['row_num'] = cats.reset_index().index\n",
    "cats = cats[['Permanent_Identifier','NHDPlusID','AreaSqKm','geometry']]\n",
    "cats.head()"
   ]
  },
  {
   "cell_type": "code",
   "execution_count": 6,
   "id": "3ea8cf81",
   "metadata": {},
   "outputs": [
    {
     "data": {
      "text/plain": [
       "Permanent_Identifier      object\n",
       "NHDPlusID                 object\n",
       "AreaSqKm                 float64\n",
       "geometry                geometry\n",
       "dtype: object"
      ]
     },
     "execution_count": 6,
     "metadata": {},
     "output_type": "execute_result"
    }
   ],
   "source": [
    "cats.dtypes"
   ]
  },
  {
   "cell_type": "code",
   "execution_count": 7,
   "id": "9fd7b23f",
   "metadata": {},
   "outputs": [],
   "source": [
    "# cats['row_num'] = cats['row_num'].astype(int)\n",
    "cats['NHDPlusID'] = cats['NHDPlusID'].astype(str)\n",
    "cats['Permanent_Identifier'] = cats['Permanent_Identifier'].astype(str)"
   ]
  },
  {
   "cell_type": "code",
   "execution_count": null,
   "id": "9bc2535e",
   "metadata": {},
   "outputs": [],
   "source": [
    "clay = 'E:/clay.tif'\n",
    "cats = cats.to_crs(5070)\n",
    "clay_stats = zonal_stats(cats, clay, all_touched=True,geojson_out=True, stats=\"count mean sum nodata\")\n",
    "clay_stats = gpd.GeoDataFrame.from_features(clay_stats)\n",
    "clay_stats['clay'] = clay_stats['mean'].apply(lambda x: x*0.01)\n",
    "clay_stats.head()"
   ]
  },
  {
   "cell_type": "markdown",
   "id": "535546a8",
   "metadata": {},
   "source": [
    "### each node can have attrs! a dict associated with every COMID"
   ]
  },
  {
   "cell_type": "code",
   "execution_count": 85,
   "id": "84d17fad",
   "metadata": {},
   "outputs": [
    {
     "name": "stdout",
     "output_type": "stream",
     "text": [
      "ClayCat is 6.11\n",
      "ClayCat is 6.11\n"
     ]
    }
   ],
   "source": [
    "# %%timeit -r 1 -n 1\n",
    "# z = np.unique(np.concatenate([flow.ToPermID.values, flow.FromPermID.values]))\n",
    "# for tt in clay_stats.itertuples():\n",
    "#     if tt.Permanent_Identifier in z:\n",
    "#         G.nodes[tt.Permanent_Identifier][\"clay\"] = tt.clay  # cleaner/quicker way for this???\n",
    "# same just displaying from zonal stats table but can join to nodes as well and creates a dictionary\n",
    "print('ClayCat is ' + str(clay_stats.loc[clay_stats['Permanent_Identifier'] == '106390136', 'clay'].item()))\n",
    "print('ClayCat is ' + str(G.nodes['106390136']['clay']))"
   ]
  },
  {
   "cell_type": "markdown",
   "id": "bed7f332",
   "metadata": {},
   "source": [
    "### sum area for the watershed using the attrs!!!\n",
    "* **NOTE:** `upstream` here is itself a Graph object, but the attrs don't come along with the `nx.bfs_tree` search that we do, so we can subset the graph"
   ]
  },
  {
   "cell_type": "code",
   "execution_count": 97,
   "id": "79c69f16",
   "metadata": {},
   "outputs": [
    {
     "name": "stdout",
     "output_type": "stream",
     "text": [
      "ClayWs is 12.93\n"
     ]
    }
   ],
   "source": [
    "# %%timeit -r 1 -n 1\n",
    "H = G.subgraph(list(upstream))\n",
    "# np.array(list(nx.get_node_attributes(H, \"clay\").values())).mean()\n",
    "clay_ws = np.array(list(nx.get_node_attributes(H, \"clay\").values())).mean()\n",
    "print('ClayWs is ' + '%.2f'%(clay_ws))"
   ]
  },
  {
   "cell_type": "code",
   "execution_count": null,
   "id": "a5fd3c16",
   "metadata": {},
   "outputs": [],
   "source": []
  }
 ],
 "metadata": {
  "kernelspec": {
   "display_name": "Python 3 (ipykernel)",
   "language": "python",
   "name": "python3"
  },
  "language_info": {
   "codemirror_mode": {
    "name": "ipython",
    "version": 3
   },
   "file_extension": ".py",
   "mimetype": "text/x-python",
   "name": "python",
   "nbconvert_exporter": "python",
   "pygments_lexer": "ipython3",
   "version": "3.9.7"
  }
 },
 "nbformat": 4,
 "nbformat_minor": 5
}
