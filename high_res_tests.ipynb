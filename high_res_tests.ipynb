{
 "cells": [
  {
   "cell_type": "code",
   "execution_count": null,
   "metadata": {},
   "outputs": [],
   "source": [
    "# imports\n",
    "import pyogrio\n",
    "import geopandas as gpd\n",
    "import pandas as pd\n",
    "import dask_geopandas as dg\n",
    "import dask.dataframe as dd\n",
    "import cupy as cp\n",
    "import networkx as nx\n",
    "from dask.distributed import Client, LocalCluster\n",
    "import os"
   ]
  },
  {
   "cell_type": "code",
   "execution_count": 2,
   "metadata": {},
   "outputs": [],
   "source": [
    "# Define path to geodatabase\n",
    "data_path = 'high_res_data/NHDPlus_H_National_Release_1_GDB/NHDPlus_H_National_Release_1_GDB.gdb'"
   ]
  },
  {
   "cell_type": "code",
   "execution_count": null,
   "metadata": {},
   "outputs": [],
   "source": [
    "layers = pyogrio.list_layers(data_path)\n",
    "layers"
   ]
  },
  {
   "cell_type": "code",
   "execution_count": null,
   "metadata": {},
   "outputs": [],
   "source": [
    "cluster = LocalCluster(n_workers=4)\n",
    "client = Client(cluster)\n",
    "print(client.dashboard_link)"
   ]
  },
  {
   "cell_type": "code",
   "execution_count": 5,
   "metadata": {},
   "outputs": [],
   "source": [
    "cat = dg.read_file(data_path, npartitions=32, layer='NHDPlusCatchment')\n",
    "flow = dg.read_file(data_path, npartitions=32, layer='NHDPlusFlow')"
   ]
  },
  {
   "cell_type": "code",
   "execution_count": 6,
   "metadata": {},
   "outputs": [],
   "source": [
    "cat = cat.get_partition(1)\n",
    "flow = flow.get_partition(1)"
   ]
  },
  {
   "cell_type": "code",
   "execution_count": null,
   "metadata": {},
   "outputs": [],
   "source": [
    "flow"
   ]
  },
  {
   "cell_type": "code",
   "execution_count": null,
   "metadata": {},
   "outputs": [],
   "source": [
    "cat['geometry'].to_crs(\"epsg:5070\")\n",
    "cat.geometry = cat.geometry.centroid\n",
    "area = cat.geometry.area.compute()\n",
    "area"
   ]
  },
  {
   "cell_type": "code",
   "execution_count": null,
   "metadata": {},
   "outputs": [],
   "source": [
    "print(flow.columns)"
   ]
  },
  {
   "cell_type": "code",
   "execution_count": null,
   "metadata": {},
   "outputs": [],
   "source": [
    "# Create a directed graph for flow data\n",
    "\n",
    "flow = flow.loc[:, ['frompermid', 'topermid']]\n",
    "G = nx.DiGraph()\n",
    "print(flow)\n",
    "#G.add_edges_from((flow_from, flow_to))\n"
   ]
  },
  {
   "cell_type": "code",
   "execution_count": null,
   "metadata": {},
   "outputs": [],
   "source": [
    "# Testing creating one massive dataframe\n",
    "# could change layers to a dict where \n",
    "# key = (str) layer name\n",
    "# val = (list[str]) important cols to load so we don't load excess data\n",
    "\n",
    "df_list = []\n",
    "for layer in layers:\n",
    "    df = dg.read_file(data_path, npartitions=64, layer=layer)\n",
    "    df_list.append(df)\n"
   ]
  },
  {
   "cell_type": "code",
   "execution_count": null,
   "metadata": {},
   "outputs": [],
   "source": [
    "# Convert from geopandas to dask geopandas\n",
    "dask_df = dd.concat(df_list)\n",
    "#print(dask_df.shape)"
   ]
  }
 ],
 "metadata": {
  "kernelspec": {
   "display_name": "Python 3",
   "language": "python",
   "name": "python3"
  },
  "language_info": {
   "codemirror_mode": {
    "name": "ipython",
    "version": 3
   },
   "file_extension": ".py",
   "mimetype": "text/x-python",
   "name": "python",
   "nbconvert_exporter": "python",
   "pygments_lexer": "ipython3",
   "version": "3.12.0"
  }
 },
 "nbformat": 4,
 "nbformat_minor": 2
}
