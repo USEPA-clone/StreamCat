{
 "cells": [
  {
   "cell_type": "code",
   "execution_count": 1,
   "metadata": {},
   "outputs": [
    {
     "name": "stderr",
     "output_type": "stream",
     "text": [
      "C:\\Users\\thudso02\\AppData\\Roaming\\Python\\Python312\\site-packages\\cupy\\_environment.py:216: UserWarning: CUDA path could not be detected. Set CUDA_PATH environment variable if CuPy fails to load.\n",
      "  warnings.warn(\n"
     ]
    }
   ],
   "source": [
    "# imports\n",
    "import pyogrio\n",
    "import geopandas as gpd\n",
    "import pandas as pd\n",
    "import dask_geopandas as dg\n",
    "import dask.dataframe as dd\n",
    "import cupy as cp"
   ]
  },
  {
   "cell_type": "code",
   "execution_count": 2,
   "metadata": {},
   "outputs": [],
   "source": [
    "# Define path to geodatabase\n",
    "data_path = 'high_res_data/NHDPlus_H_National_Release_1_GDB/NHDPlus_H_National_Release_1_GDB.gdb'"
   ]
  },
  {
   "cell_type": "code",
   "execution_count": 3,
   "metadata": {},
   "outputs": [
    {
     "name": "stderr",
     "output_type": "stream",
     "text": [
      "C:\\Users\\thudso02\\AppData\\Roaming\\Python\\Python312\\site-packages\\pyogrio\\core.py:117: UserWarning: Measured (M) geometry types are not supported. Original type 'Measured 3D MultiLineString' is converted to 'MultiLineString Z'\n",
      "  return ogr_list_layers(get_vsi_path_or_buffer(path_or_buffer))\n"
     ]
    },
    {
     "data": {
      "text/plain": [
       "array([['NHDPlusConnect', None],\n",
       "       ['NHDPlusGageSmooth', None],\n",
       "       ['WBDHU12', 'MultiPolygon'],\n",
       "       ['NonNetworkNHDFlowline', 'MultiLineString Z'],\n",
       "       ['NetworkNHDFlowline', 'MultiLineString Z'],\n",
       "       ['NHDWaterbody', 'MultiPolygon Z'],\n",
       "       ['NHDPoint', 'Point Z'],\n",
       "       ['NHDPlusWall', 'MultiLineString'],\n",
       "       ['NHDPlusSink', 'Point'],\n",
       "       ['NHDPlusGage', 'Point'],\n",
       "       ['NHDPlusCatchment', 'MultiPolygon'],\n",
       "       ['NHDPlusBoundaryUnit', 'MultiPolygon'],\n",
       "       ['NHDLine', 'MultiLineString Z'],\n",
       "       ['NHDArea', 'MultiPolygon Z'],\n",
       "       ['NHDPlusFlow', None]], dtype=object)"
      ]
     },
     "execution_count": 3,
     "metadata": {},
     "output_type": "execute_result"
    }
   ],
   "source": [
    "layers = pyogrio.list_layers(data_path)\n",
    "layers"
   ]
  },
  {
   "cell_type": "code",
   "execution_count": 4,
   "metadata": {},
   "outputs": [],
   "source": [
    "cat = dg.read_file(data_path, npartitions=8, layer='NHDPlusCatchment')\n",
    "flow = dg.read_file(data_path, npartitions=8, layer='NHDPlusFlow')"
   ]
  },
  {
   "cell_type": "code",
   "execution_count": null,
   "metadata": {},
   "outputs": [],
   "source": [
    "cat.describe()"
   ]
  },
  {
   "cell_type": "code",
   "execution_count": null,
   "metadata": {},
   "outputs": [],
   "source": [
    "df_list = []\n",
    "for layer in layers:\n",
    "    df_list.append(gpd.read_file(data_path, layer=layer, engine=\"pyogrio\"))\n"
   ]
  },
  {
   "cell_type": "code",
   "execution_count": null,
   "metadata": {},
   "outputs": [],
   "source": [
    "dask_list = [dg.from_geopandas(df, npartitions=1) for df in df_list]\n",
    "dask_df = dd.concat(dask_list)\n",
    "print(dask_df)"
   ]
  }
 ],
 "metadata": {
  "kernelspec": {
   "display_name": "Python 3",
   "language": "python",
   "name": "python3"
  },
  "language_info": {
   "codemirror_mode": {
    "name": "ipython",
    "version": 3
   },
   "file_extension": ".py",
   "mimetype": "text/x-python",
   "name": "python",
   "nbconvert_exporter": "python",
   "pygments_lexer": "ipython3",
   "version": "3.12.0"
  }
 },
 "nbformat": 4,
 "nbformat_minor": 2
}
